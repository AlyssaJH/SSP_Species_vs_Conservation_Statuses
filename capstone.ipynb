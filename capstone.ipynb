{
 "cells": [
  {
   "cell_type": "markdown",
   "metadata": {},
   "source": [
    "# Introduction\n",
    "The Association of Zoos and Aquariums (AZA) is a non-profit, independent accrediting organization representing more than 250 facilities in the United States and internationally. These facilities may participate in the AZA’s cooperatively managed Species Survival Plan (SSP) programs, which aim to manage a species’ ex situ (meaning “outside of its natural habitat” - e.g. in zoos) population. \n",
    "\n",
    "The International Union for Conservation of Nature (IUCN), composed of both governmental and non-governmental organizations, is the global authority on the status of the natural world. The IUCN’s Red List of Threatened Species is the world’s most comprehensive source of information on the global extinction risk status of animal, fungus, and plant species. Evaluated species are classified into one of eight categories: \n",
    "- Extinct (EX)\n",
    "- Extinct in the Wild (EW)\n",
    "- Critically Endangered (CR)\n",
    "- Endangered (EN)\n",
    "- Vulnerable (VU)\n",
    "- Near Threatened (NT)\n",
    "- Least Concern (LC)\n",
    "- Data Deficient (DD)\n",
    "\n",
    "Additionally, the direction of change of a species’ population size over time is assessed and categorized as one of the following:\n",
    "\n",
    "- Increasing\n",
    "- Decreasing\n",
    "- Stable\n",
    "- Unknown\n",
    "- Unspecified\n",
    "\n",
    "This project aims to analyze animal species with dedicated AZA SSPs and their IUCN Red List global extinction risk statuses to determine if SSPs prioritize the world’s most vulnerable species. "
   ]
  },
  {
   "cell_type": "markdown",
   "metadata": {},
   "source": [
    "# Load Data"
   ]
  },
  {
   "cell_type": "code",
   "execution_count": 627,
   "metadata": {},
   "outputs": [],
   "source": [
    "import pandas as pd #Python library for data manipulation and analysis"
   ]
  },
  {
   "cell_type": "markdown",
   "metadata": {},
   "source": [
    "\n",
    "SSP dataset created with data retrieved from the Association of Zoos and Aquariums' Animal Program Database. \n",
    "\n",
    "AZA. 2024. Animal Program Database. https://www.aza.org."
   ]
  },
  {
   "cell_type": "code",
   "execution_count": null,
   "metadata": {},
   "outputs": [],
   "source": [
    "ssp = pd.read_csv('0225_aza_ssp.csv') #Read in SSP data\n",
    "ssp.head #Display first 5 rows"
   ]
  },
  {
   "cell_type": "markdown",
   "metadata": {},
   "source": [
    "Red List dataset created with data retrieved from the International Union for Conservation of Nature's Red List of Threatened Species. \n",
    "\n",
    "IUCN. 2024. The IUCN Red List of Threatened Species. Version 2024-2. https://www.iucnredlist.org."
   ]
  },
  {
   "cell_type": "code",
   "execution_count": null,
   "metadata": {},
   "outputs": [],
   "source": [
    "redlist = pd.read_csv('0225_iucn_assessments.csv') #Read in Red List data\n",
    "redlist.head #Display first five rows"
   ]
  },
  {
   "cell_type": "markdown",
   "metadata": {},
   "source": [
    "# Clean and Merge Data"
   ]
  },
  {
   "cell_type": "code",
   "execution_count": null,
   "metadata": {},
   "outputs": [],
   "source": [
    "print(redlist.dtypes, ssp.dtypes) #Chek for dtype errors, none found"
   ]
  },
  {
   "cell_type": "code",
   "execution_count": null,
   "metadata": {},
   "outputs": [],
   "source": [
    "ssp.drop( #Drop unneeded SSP columns\n",
    "    ['program_type',\n",
    "     'genus_name',\n",
    "     'species_name',\n",
    "     'subspecies'],\n",
    "    axis=1, #Axis=1 is columns, axis=0 would be rows\n",
    "    inplace=True) #In place=True modifies existing dataframe, in place=False would return a new dataframe\n",
    "ssp.head #Display first 5 rows"
   ]
  },
  {
   "cell_type": "code",
   "execution_count": null,
   "metadata": {},
   "outputs": [],
   "source": [
    "redlist.drop( #Drop unneeded Red List columns\n",
    "    ['taxon',\n",
    "     'common_name',\n",
    "     'genus_name',\n",
    "     'species_name',\n",
    "     'assessment_scope'],\n",
    "    axis=1, #Axis=1 is columns, axis=0 would be rows\n",
    "    inplace=True) #In place=True modifies existing dataframe, in place=False would return a new dataframe\n",
    "redlist.head #Display first 5 rows"
   ]
  },
  {
   "cell_type": "code",
   "execution_count": null,
   "metadata": {},
   "outputs": [],
   "source": [
    "print(ssp.isnull().any()) #Check for null values, none found\n",
    "print(redlist.isnull().any()) #Check for null values, none found"
   ]
  },
  {
   "cell_type": "code",
   "execution_count": null,
   "metadata": {},
   "outputs": [],
   "source": [
    "redlist = redlist.set_index('scientific_name')\n",
    "ssp = ssp.set_index('scientific_name')\n",
    "ssp_vs_redlist = ssp.join(redlist, lsuffix='_SSP', rsuffix='_RL') #Combine data at column 'scientific_name'\n",
    "print(ssp_vs_redlist.shape)\n",
    "ssp_vs_redlist.head() #Display first 5 rows"
   ]
  },
  {
   "cell_type": "code",
   "execution_count": null,
   "metadata": {},
   "outputs": [],
   "source": [
    "#Strip whitespace and normalize case in all columns \n",
    "ssp_vs_redlist['taxon'] = ssp_vs_redlist['taxon'].str.strip().str.upper()\n",
    "ssp_vs_redlist['common_name'] = ssp_vs_redlist['common_name'].str.strip().str.upper()\n",
    "ssp_vs_redlist['assessment'] = ssp_vs_redlist['assessment'].str.strip().str.upper()\n",
    "ssp_vs_redlist['population_trend'] = ssp_vs_redlist['population_trend'].str.strip().str.upper()\n",
    "ssp_vs_redlist.head() #Display first 5 rows"
   ]
  },
  {
   "cell_type": "code",
   "execution_count": null,
   "metadata": {},
   "outputs": [],
   "source": [
    "print(ssp_vs_redlist.shape) #Size before removing duplicate values\n",
    "duplicates = ssp_vs_redlist[ssp_vs_redlist.duplicated()] #Check for duplicate values\n",
    "print(duplicates) #Show duplicate values\n",
    "ssp_vs_redlist = ssp_vs_redlist.drop_duplicates() #Drop duplicate values\n",
    "print(ssp_vs_redlist.shape) #Size after removing duplicate values"
   ]
  },
  {
   "cell_type": "code",
   "execution_count": null,
   "metadata": {},
   "outputs": [],
   "source": [
    "print(ssp_vs_redlist.describe())\n",
    "print (ssp_vs_redlist.info())"
   ]
  },
  {
   "cell_type": "markdown",
   "metadata": {},
   "source": [
    "# Analysis"
   ]
  },
  {
   "cell_type": "code",
   "execution_count": null,
   "metadata": {},
   "outputs": [],
   "source": [
    "assessment_count = ssp_vs_redlist.groupby('assessment').assessment.count() #Group ssp_vs_redlist by assessment\n",
    "assessment_count = assessment_count.sort_values()\n",
    "print(assessment_count)\n",
    "print(assessment_count.describe()) #Descriptive statistics"
   ]
  },
  {
   "cell_type": "code",
   "execution_count": null,
   "metadata": {},
   "outputs": [],
   "source": [
    "population_trend_count = ssp_vs_redlist.groupby('population_trend').population_trend.count() #Group ssp_vs_redlist by population_trend\n",
    "population_trend_count = population_trend_count.sort_values()\n",
    "print(population_trend_count)\n",
    "print(population_trend_count.describe()) #Descriptive statistics"
   ]
  },
  {
   "cell_type": "code",
   "execution_count": null,
   "metadata": {},
   "outputs": [],
   "source": [
    "assessment_and_trend = ssp_vs_redlist.groupby(['assessment', 'population_trend']).assessment.count() #Group ssp_vs_redlist by assessment AND population_trend\n",
    "print(assessment_and_trend)\n",
    "print(assessment_and_trend.describe()) #Descriptive statistics"
   ]
  },
  {
   "cell_type": "markdown",
   "metadata": {},
   "source": [
    "# Visualization"
   ]
  },
  {
   "cell_type": "code",
   "execution_count": 641,
   "metadata": {},
   "outputs": [],
   "source": [
    "# Python library for data visualization\n",
    "import matplotlib.pyplot as plt #Python library for data visualization"
   ]
  },
  {
   "cell_type": "code",
   "execution_count": null,
   "metadata": {},
   "outputs": [],
   "source": [
    "labels = 'CR', 'EN', 'VU', 'NT', 'LC', 'DD' #Define data\n",
    "values = [46, 53, 44, 24, 133, 1] #Retrieved from analysis and manually entered\n",
    "colors = ['#008080', '#e19464', '#ced7b1', '#7eab98', '#ca562c', '#f1cf9e'] #Hex codes for custom colors\n",
    "fig, ax = plt.subplots(figsize=(10, 10)) #Create pie chart\n",
    "# fig creates a figure, ax creates an axes object\n",
    "# .subplot() prefered over .figure() because it gives more control\n",
    "ax.pie(values, labels=labels, colors=colors, autopct='%1.1f%%')\n",
    "# ax.pie prefered over plt.pie because it gives more control\n",
    "# autopct formats percentage labels, %1.1f%% specifies 1 decimal place\n",
    "ax.set_title('Species Distribution by Extinction Risk Status')\n",
    "plt.show() #Display pie chart"
   ]
  },
  {
   "cell_type": "code",
   "execution_count": null,
   "metadata": {},
   "outputs": [],
   "source": [
    "labels = 'Increasing', 'Decreasing', 'Stable', 'Unknown', 'Unspecified' #Define data\n",
    "values = [26, 199, 55, 19, 2] #Retrieved from analysis and manually entered\n",
    "colors = ['#008080', '#e19464', '#ced7b1', '#7eab98', '#ca562c'] #Hex codes for custom colors\n",
    "fig, ax = plt.subplots(figsize=(10, 10)) #Create pie chart\n",
    "ax.pie(values, labels=labels, autopct='%1.1f%%', colors=colors)\n",
    "ax.set_title('Species Distribution by Population Trend')\n",
    "plt.show() #Display pie chart"
   ]
  },
  {
   "cell_type": "code",
   "execution_count": null,
   "metadata": {},
   "outputs": [],
   "source": [
    "labels = ['CR - Increasing', 'CR - Decreasing', 'CR - Stable', 'CR - Unknown', 'CR - Unspecified', \n",
    "              'EN - Increasing', 'EN - Decreasing', 'EN - Etable', 'EN - Unknown',\n",
    "              'VU - Increasing', 'VU - Decreasing', 'VU - Stable', 'VU - Unknown', \n",
    "              'NT - Decreasing', 'NT - Unknown', \n",
    "              'LC - Increasing', 'LC - Decreasing', 'LC - Stable', 'LC - Unknown', \n",
    "              'DD - Decreasing',] #Define data\n",
    "values = [3/285*100, 32/285*100, 2/278*100, 1/285*100, 2/285*100, \n",
    "          4/285*100, 37/285*100, 3/285*100, 1/285*100, \n",
    "          2/285*100, 37/285*100, 1/285*100, 2/285*100, \n",
    "          23/285*100, 1/285*100,\n",
    "          17/285*100, 53/285*100, 49/285*100, 14/285*100,\n",
    "          1/285*100] #Retrieved from analysis and entered manually, assessment-trend value / total number of species * 100 to make a percentage\n",
    "colors = ['#008080', '#008080', '#008080', '#008080', '#008080',\n",
    "          '#e19464', '#e19464', '#e19464', '#e19464', \n",
    "          '#ced7b1', '#ced7b1', '#ced7b1', '#ced7b1', \n",
    "          '#7eab98', '#7eab98',\n",
    "          '#ca562c', '#ca562c', '#ca562c', '#ca562c', \n",
    "          '#f1cf9e'] #Hex codes for custom colors\n",
    "fig, ax = plt.subplots(figsize=(10, 10))\n",
    "bars = ax.bar(labels, values, color=colors) #Create bar chart\n",
    "plt.xlabel('Extinction Risk Status and Population Trend')\n",
    "plt.ylabel('Percentage of Species')\n",
    "plt.title('Species Distribution by Extinction Risk Status and Population Trend')\n",
    "plt.xticks(rotation=45, # Adjust layout\n",
    "           ha='right') #Aligns labels to avoid overlap\n",
    "plt.tight_layout()\n",
    "for bar in bars: #Add labels on each bar\n",
    "    height = bar.get_height()\n",
    "    label = f'{height:.1f}%' #Create label and format to have 1 decimal place\n",
    "    plt.text(bar.get_x() + bar.get_width() / 2, #Specifies label location as center of bar\n",
    "             height, label, ha='center', va='bottom', fontsize=10, rotation=60)\n",
    "plt.show() #Display bar chart"
   ]
  },
  {
   "cell_type": "markdown",
   "metadata": {},
   "source": [
    "# Discussion"
   ]
  },
  {
   "cell_type": "markdown",
   "metadata": {},
   "source": [
    "### Summary \n",
    "\n",
    "The purpose of this project was to analyze animal species with dedicated AZA SSPs and their IUCN Red List global extinction risk statuses to determine if SSPs prioritize the world’s most vulnerable species.\n",
    "\n",
    "To complete this analysis, I created two datasets: one with data retrieved from the Association of Zoos and Aquariums’ Animal Program Database and one with data retrieved from the International Union for Conservation of Nature’s Red List of Threatened species.\n",
    "\n",
    "This data was read, cleaned, manipulated, and analyzed using Pandas. All visualizations were created using Matplotlib. A data dictionary for each dataset is included in the repository, and instructions on how to run the project using a virtual environment can be found in the README.\n",
    "\n",
    "### Findings\n",
    "\n",
    "As can be seen from the pie chart titled ‘Species Distribution by Extinction Risk Status’, over half of all species with dedicated SSPs are classified as ‘near threatened’ or ‘least concerned’, the 2 categories least at risk of extinction. Conversely, the populations of over half of the species with dedicated SSPs are classified as ‘decreasing’, which can be seen from the pie chart titled ‘Species Distribution by Population Trend’. The bar chart titled ‘Species Distribution by Extinction Risk Statistics and Population Trend’ unites these results and reveals what percent of SSP species are classified as each unique combination of extinction risk and population trend.\n",
    "\n",
    "### Implications \n",
    "\n",
    "The results of my analysis suggest that species with dedicated SSPs are likely to be faced with a low risk of extinction and a population that is decreasing in size. Whether these parameters are taken into account when determining for which species to establish dedicated SSPs remains unknown.\n",
    "\n",
    "It is important to note that SSPs are not the only avenue by which AZA facilities protect vulnerable species. Though a species may not have its own SSP, it is likely safeguarded by at least one of the AZA’s many other conservation initiatives.\n",
    "\n",
    "### Future Plans\n",
    "\n",
    "I plan to continue working on and improving this project in the coming months. My first course of action will be rework instances in which I manually entered data rather than referencing an object. I would also like to explore other methods of creating visualizations, perhaps creating a tableau dashboard. Ultimately, I would like to convert all tasks into custom functions to improve performance."
   ]
  }
 ],
 "metadata": {
  "kernelspec": {
   "display_name": "Python 3",
   "language": "python",
   "name": "python3"
  },
  "language_info": {
   "codemirror_mode": {
    "name": "ipython",
    "version": 3
   },
   "file_extension": ".py",
   "mimetype": "text/x-python",
   "name": "python",
   "nbconvert_exporter": "python",
   "pygments_lexer": "ipython3",
   "version": "3.13.0"
  }
 },
 "nbformat": 4,
 "nbformat_minor": 2
}
