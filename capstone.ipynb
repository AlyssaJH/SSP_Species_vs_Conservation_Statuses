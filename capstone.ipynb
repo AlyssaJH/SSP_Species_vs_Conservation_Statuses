{
 "cells": [
  {
   "cell_type": "markdown",
   "metadata": {},
   "source": [
    "# Introduction\n",
    "The Association of Zoos and Aquariums (AZA) is a non-profit, independent accrediting organization representing more than 250 facilities in the United States and internationally. These facilities may participate in the AZA’s cooperatively managed Species Survival Plan (SSP) programs, which aim to manage a species’ ex situ (meaning “outside of its natural habitat” - e.g. in zoos) population. \n",
    "\n",
    "The International Union for Conservation of Nature (IUCN), composed of both governmental and non-governmental organizations, is the global authority on the status of the natural world. The IUCN’s Red List of Threatened Species is the world’s most comprehensive source of information on the global extinction risk status of animal, fungus, and plant species. Evaluated species are classified into one of eight categories: \n",
    "- Extinct (EX)\n",
    "- Extinct in the Wild (EW)\n",
    "- Critically Endangered (CR)\n",
    "- Endangered (EN)\n",
    "- Vulnerable (VU)\n",
    "- Near Threatened (NT)\n",
    "- Least Concern (LC)\n",
    "- Data Deficient (DD)\n",
    "\n",
    "This project aims to analyze animal species with dedicated AZA SSPs and their IUCN Red List global extinction risk statuses to determine if SSPs prioritize the world’s most vulnerable species. "
   ]
  },
  {
   "cell_type": "markdown",
   "metadata": {},
   "source": [
    "# Load Data"
   ]
  },
  {
   "cell_type": "code",
   "execution_count": null,
   "metadata": {},
   "outputs": [],
   "source": [
    "# Python library for data manipulation and analysis\n",
    "import pandas as pd\n",
    "\n",
    "# Read in SSP data and display first five rows\n",
    "ssp = pd.read_csv('0225_aza_ssp.csv')\n",
    "ssp.head"
   ]
  },
  {
   "cell_type": "code",
   "execution_count": null,
   "metadata": {},
   "outputs": [],
   "source": [
    "# Read in Red List data and display first five rows\n",
    "redlist = pd.read_csv('0225_iucn_assessments.csv')\n",
    "redlist.head"
   ]
  },
  {
   "cell_type": "markdown",
   "metadata": {},
   "source": [
    "# Clean and Merge Data"
   ]
  },
  {
   "cell_type": "code",
   "execution_count": null,
   "metadata": {},
   "outputs": [],
   "source": [
    "# Check for dtype errors\n",
    "print(redlist.dtypes, ssp.dtypes)"
   ]
  },
  {
   "cell_type": "code",
   "execution_count": null,
   "metadata": {},
   "outputs": [],
   "source": [
    "# Drop unneeded SSP columns and display first 5 rows\n",
    "ssp.drop(\n",
    "    ['program_type',\n",
    "     'genus_name',\n",
    "     'species_name',\n",
    "     'subspecies'],\n",
    "    axis=1, inplace=True)\n",
    "\n",
    "ssp.head"
   ]
  },
  {
   "cell_type": "code",
   "execution_count": null,
   "metadata": {},
   "outputs": [],
   "source": [
    "# Drop unneeded RedList columns and display first 5 rows\n",
    "redlist.drop(\n",
    "    ['taxon',\n",
    "     'common_name',\n",
    "     'genus_name',\n",
    "     'species_name',\n",
    "     'assessment_scope'],\n",
    "    axis=1, inplace=True)\n",
    "\n",
    "redlist.head"
   ]
  },
  {
   "cell_type": "code",
   "execution_count": null,
   "metadata": {},
   "outputs": [],
   "source": [
    "# Check for null values\n",
    "print(ssp.isnull().any())\n",
    "print(redlist.isnull().any())"
   ]
  },
  {
   "cell_type": "code",
   "execution_count": null,
   "metadata": {},
   "outputs": [],
   "source": [
    "# Combine data sets at column 'scientific_name' and display first 5 rows\n",
    "redlist = redlist.set_index('scientific_name')\n",
    "ssp = ssp.set_index('scientific_name')\n",
    "ssp_vs_redlist = ssp.join(redlist, lsuffix='_SSP', rsuffix='_RL')\n",
    "ssp_vs_redlist.head()"
   ]
  },
  {
   "cell_type": "code",
   "execution_count": null,
   "metadata": {},
   "outputs": [],
   "source": [
    "print(ssp_vs_redlist.describe())\n",
    "print (ssp_vs_redlist.info())"
   ]
  },
  {
   "cell_type": "markdown",
   "metadata": {},
   "source": [
    "# Analysis"
   ]
  },
  {
   "cell_type": "markdown",
   "metadata": {},
   "source": [
    "# Summary and Discussion"
   ]
  }
 ],
 "metadata": {
  "kernelspec": {
   "display_name": "Python 3",
   "language": "python",
   "name": "python3"
  },
  "language_info": {
   "codemirror_mode": {
    "name": "ipython",
    "version": 3
   },
   "file_extension": ".py",
   "mimetype": "text/x-python",
   "name": "python",
   "nbconvert_exporter": "python",
   "pygments_lexer": "ipython3",
   "version": "3.13.0"
  }
 },
 "nbformat": 4,
 "nbformat_minor": 2
}
