{
 "cells": [
  {
   "cell_type": "code",
   "execution_count": 138,
   "metadata": {},
   "outputs": [
    {
     "data": {
      "text/plain": [
       "<bound method NDFrame.head of     program_type    taxon                 common_name    genus_name  \\\n",
       "0            SSP   Mammal                    Aardvark   Orycteropus   \n",
       "1            SSP   Mammal                       Addax         Addax   \n",
       "2            SSP   Mammal           Agouti, Brazilian    Dasyprocta   \n",
       "3            SSP  Reptile          Alligator, Chinese     Alligator   \n",
       "4            SSP   Mammal             Anteater, Giant  Myrmecophaga   \n",
       "..           ...      ...                         ...           ...   \n",
       "280          SSP   Mammal                 Wolf, Maned    Chrysocyon   \n",
       "281          SSP     Bird           Woodhoopoe, Green   Phoeniculus   \n",
       "282          SSP   Mammal              Zebra, Grevy's         Equus   \n",
       "283          SSP   Mammal  Zebra, Hartmann's Mountain        Equus    \n",
       "284          SSP   Mammal               Zebra, Plains         Equus   \n",
       "\n",
       "      species_name          scientific_name  subspecies  \n",
       "0             afer         Orycteropus afer         NaN  \n",
       "1    nasomaculatus      Addax nasomaculatus         NaN  \n",
       "2         leporina      Dasyprocta leporina         NaN  \n",
       "3         sinensis       Alligator sinensis         NaN  \n",
       "4       tridactyla  Myrmecophaga tridactyla         NaN  \n",
       "..             ...                      ...         ...  \n",
       "280     brachyurus    Chrysocyon brachyurus         NaN  \n",
       "281      purpureus    Phoeniculus purpureus         NaN  \n",
       "282         grevyi             Equus grevyi         NaN  \n",
       "283          zebra              Equus zebra  hartmannae  \n",
       "284         quagga             Equus quagga         NaN  \n",
       "\n",
       "[285 rows x 7 columns]>"
      ]
     },
     "execution_count": 138,
     "metadata": {},
     "output_type": "execute_result"
    }
   ],
   "source": [
    "import pandas as pd\n",
    "\n",
    "ssp = pd.read_csv('0225_aza_ssp.csv')\n",
    "ssp.head"
   ]
  },
  {
   "cell_type": "code",
   "execution_count": 139,
   "metadata": {},
   "outputs": [
    {
     "data": {
      "text/plain": [
       "<bound method NDFrame.head of     program_type    taxon                 common_name    genus_name  \\\n",
       "0            SSP   Mammal                    Aardvark   Orycteropus   \n",
       "1            SSP   Mammal                       Addax         Addax   \n",
       "2            SSP   Mammal           Agouti, Brazilian    Dasyprocta   \n",
       "3            SSP  Reptile          Alligator, Chinese     Alligator   \n",
       "4            SSP   Mammal             Anteater, Giant  Myrmecophaga   \n",
       "..           ...      ...                         ...           ...   \n",
       "280          SSP   Mammal                 Wolf, Maned    Chrysocyon   \n",
       "281          SSP     Bird           Woodhoopoe, Green   Phoeniculus   \n",
       "282          SSP   Mammal              Zebra, Grevy's         Equus   \n",
       "283          SSP   Mammal  Zebra, Hartmann's Mountain        Equus    \n",
       "284          SSP   Mammal               Zebra, Plains         Equus   \n",
       "\n",
       "      species_name          scientific_name  subspecies  \n",
       "0             afer         Orycteropus afer         NaN  \n",
       "1    nasomaculatus      Addax nasomaculatus         NaN  \n",
       "2         leporina      Dasyprocta leporina         NaN  \n",
       "3         sinensis       Alligator sinensis         NaN  \n",
       "4       tridactyla  Myrmecophaga tridactyla         NaN  \n",
       "..             ...                      ...         ...  \n",
       "280     brachyurus    Chrysocyon brachyurus         NaN  \n",
       "281      purpureus    Phoeniculus purpureus         NaN  \n",
       "282         grevyi             Equus grevyi         NaN  \n",
       "283          zebra              Equus zebra  hartmannae  \n",
       "284         quagga             Equus quagga         NaN  \n",
       "\n",
       "[285 rows x 7 columns]>"
      ]
     },
     "execution_count": 139,
     "metadata": {},
     "output_type": "execute_result"
    }
   ],
   "source": [
    "redlist = pd.read_csv('0225_iucn_assessments.csv')\n",
    "ssp.head\n"
   ]
  },
  {
   "cell_type": "code",
   "execution_count": 140,
   "metadata": {},
   "outputs": [
    {
     "name": "stdout",
     "output_type": "stream",
     "text": [
      "taxon               object\n",
      "common_name         object\n",
      "genus_name          object\n",
      "species_name        object\n",
      "scientific_name     object\n",
      "assessment          object\n",
      "population_trend    object\n",
      "assessment_scope    object\n",
      "dtype: object program_type       object\n",
      "taxon              object\n",
      "common_name        object\n",
      "genus_name         object\n",
      "species_name       object\n",
      "scientific_name    object\n",
      "subspecies         object\n",
      "dtype: object\n"
     ]
    }
   ],
   "source": [
    "print(redlist.dtypes, ssp.dtypes)"
   ]
  },
  {
   "cell_type": "code",
   "execution_count": 141,
   "metadata": {},
   "outputs": [
    {
     "data": {
      "text/html": [
       "<div>\n",
       "<style scoped>\n",
       "    .dataframe tbody tr th:only-of-type {\n",
       "        vertical-align: middle;\n",
       "    }\n",
       "\n",
       "    .dataframe tbody tr th {\n",
       "        vertical-align: top;\n",
       "    }\n",
       "\n",
       "    .dataframe thead th {\n",
       "        text-align: right;\n",
       "    }\n",
       "</style>\n",
       "<table border=\"1\" class=\"dataframe\">\n",
       "  <thead>\n",
       "    <tr style=\"text-align: right;\">\n",
       "      <th></th>\n",
       "      <th>program_type</th>\n",
       "      <th>taxon_SSP</th>\n",
       "      <th>common_name_SSP</th>\n",
       "      <th>genus_name_SSP</th>\n",
       "      <th>species_name_SSP</th>\n",
       "      <th>subspecies</th>\n",
       "      <th>taxon_RL</th>\n",
       "      <th>common_name_RL</th>\n",
       "      <th>genus_name_RL</th>\n",
       "      <th>species_name_RL</th>\n",
       "      <th>assessment</th>\n",
       "      <th>population_trend</th>\n",
       "      <th>assessment_scope</th>\n",
       "    </tr>\n",
       "    <tr>\n",
       "      <th>scientific_name</th>\n",
       "      <th></th>\n",
       "      <th></th>\n",
       "      <th></th>\n",
       "      <th></th>\n",
       "      <th></th>\n",
       "      <th></th>\n",
       "      <th></th>\n",
       "      <th></th>\n",
       "      <th></th>\n",
       "      <th></th>\n",
       "      <th></th>\n",
       "      <th></th>\n",
       "      <th></th>\n",
       "    </tr>\n",
       "  </thead>\n",
       "  <tbody>\n",
       "    <tr>\n",
       "      <th>Orycteropus afer</th>\n",
       "      <td>SSP</td>\n",
       "      <td>Mammal</td>\n",
       "      <td>Aardvark</td>\n",
       "      <td>Orycteropus</td>\n",
       "      <td>afer</td>\n",
       "      <td>NaN</td>\n",
       "      <td>Mammal</td>\n",
       "      <td>Aardvark</td>\n",
       "      <td>Orycteropus</td>\n",
       "      <td>afer</td>\n",
       "      <td>LC</td>\n",
       "      <td>Unknown</td>\n",
       "      <td>Global</td>\n",
       "    </tr>\n",
       "    <tr>\n",
       "      <th>Addax nasomaculatus</th>\n",
       "      <td>SSP</td>\n",
       "      <td>Mammal</td>\n",
       "      <td>Addax</td>\n",
       "      <td>Addax</td>\n",
       "      <td>nasomaculatus</td>\n",
       "      <td>NaN</td>\n",
       "      <td>Mammal</td>\n",
       "      <td>Addax</td>\n",
       "      <td>Addax</td>\n",
       "      <td>nasomaculatus</td>\n",
       "      <td>CR</td>\n",
       "      <td>Decreasing</td>\n",
       "      <td>Global</td>\n",
       "    </tr>\n",
       "    <tr>\n",
       "      <th>Dasyprocta leporina</th>\n",
       "      <td>SSP</td>\n",
       "      <td>Mammal</td>\n",
       "      <td>Agouti, Brazilian</td>\n",
       "      <td>Dasyprocta</td>\n",
       "      <td>leporina</td>\n",
       "      <td>NaN</td>\n",
       "      <td>Mammal</td>\n",
       "      <td>Agouti, Brazilian</td>\n",
       "      <td>Dasyprocta</td>\n",
       "      <td>leporina</td>\n",
       "      <td>LC</td>\n",
       "      <td>Stable</td>\n",
       "      <td>Global</td>\n",
       "    </tr>\n",
       "    <tr>\n",
       "      <th>Alligator sinensis</th>\n",
       "      <td>SSP</td>\n",
       "      <td>Reptile</td>\n",
       "      <td>Alligator, Chinese</td>\n",
       "      <td>Alligator</td>\n",
       "      <td>sinensis</td>\n",
       "      <td>NaN</td>\n",
       "      <td>Reptile</td>\n",
       "      <td>Alligator, Chinese</td>\n",
       "      <td>Alligator</td>\n",
       "      <td>sinensis</td>\n",
       "      <td>CR</td>\n",
       "      <td>Stable</td>\n",
       "      <td>Global</td>\n",
       "    </tr>\n",
       "    <tr>\n",
       "      <th>Myrmecophaga tridactyla</th>\n",
       "      <td>SSP</td>\n",
       "      <td>Mammal</td>\n",
       "      <td>Anteater, Giant</td>\n",
       "      <td>Myrmecophaga</td>\n",
       "      <td>tridactyla</td>\n",
       "      <td>NaN</td>\n",
       "      <td>Mammal</td>\n",
       "      <td>Anteater, Giant</td>\n",
       "      <td>Myrmecophaga</td>\n",
       "      <td>tridactyla</td>\n",
       "      <td>VU</td>\n",
       "      <td>Decreasing</td>\n",
       "      <td>Global</td>\n",
       "    </tr>\n",
       "  </tbody>\n",
       "</table>\n",
       "</div>"
      ],
      "text/plain": [
       "                        program_type taxon_SSP     common_name_SSP  \\\n",
       "scientific_name                                                      \n",
       "Orycteropus afer                 SSP    Mammal            Aardvark   \n",
       "Addax nasomaculatus              SSP    Mammal               Addax   \n",
       "Dasyprocta leporina              SSP    Mammal   Agouti, Brazilian   \n",
       "Alligator sinensis               SSP   Reptile  Alligator, Chinese   \n",
       "Myrmecophaga tridactyla          SSP    Mammal     Anteater, Giant   \n",
       "\n",
       "                        genus_name_SSP species_name_SSP subspecies taxon_RL  \\\n",
       "scientific_name                                                               \n",
       "Orycteropus afer           Orycteropus             afer        NaN   Mammal   \n",
       "Addax nasomaculatus              Addax    nasomaculatus        NaN   Mammal   \n",
       "Dasyprocta leporina         Dasyprocta         leporina        NaN   Mammal   \n",
       "Alligator sinensis           Alligator         sinensis        NaN  Reptile   \n",
       "Myrmecophaga tridactyla   Myrmecophaga       tridactyla        NaN   Mammal   \n",
       "\n",
       "                             common_name_RL genus_name_RL species_name_RL  \\\n",
       "scientific_name                                                             \n",
       "Orycteropus afer                   Aardvark   Orycteropus            afer   \n",
       "Addax nasomaculatus                   Addax         Addax   nasomaculatus   \n",
       "Dasyprocta leporina       Agouti, Brazilian    Dasyprocta        leporina   \n",
       "Alligator sinensis       Alligator, Chinese     Alligator        sinensis   \n",
       "Myrmecophaga tridactyla     Anteater, Giant  Myrmecophaga      tridactyla   \n",
       "\n",
       "                        assessment population_trend assessment_scope  \n",
       "scientific_name                                                       \n",
       "Orycteropus afer                LC          Unknown           Global  \n",
       "Addax nasomaculatus             CR       Decreasing           Global  \n",
       "Dasyprocta leporina             LC           Stable           Global  \n",
       "Alligator sinensis              CR           Stable           Global  \n",
       "Myrmecophaga tridactyla         VU       Decreasing           Global  "
      ]
     },
     "execution_count": 141,
     "metadata": {},
     "output_type": "execute_result"
    }
   ],
   "source": [
    "redlist = redlist.set_index('scientific_name')\n",
    "ssp = ssp.set_index('scientific_name')\n",
    "\n",
    "ssp_vs_redlist = ssp.join(redlist, lsuffix='_SSP', rsuffix='_RL')\n",
    "ssp_vs_redlist.head()"
   ]
  },
  {
   "cell_type": "code",
   "execution_count": 142,
   "metadata": {},
   "outputs": [
    {
     "data": {
      "text/plain": [
       "(301, 13)"
      ]
     },
     "execution_count": 142,
     "metadata": {},
     "output_type": "execute_result"
    }
   ],
   "source": [
    "ssp_vs_redlist.shape"
   ]
  },
  {
   "cell_type": "code",
   "execution_count": 143,
   "metadata": {},
   "outputs": [
    {
     "data": {
      "text/html": [
       "<div>\n",
       "<style scoped>\n",
       "    .dataframe tbody tr th:only-of-type {\n",
       "        vertical-align: middle;\n",
       "    }\n",
       "\n",
       "    .dataframe tbody tr th {\n",
       "        vertical-align: top;\n",
       "    }\n",
       "\n",
       "    .dataframe thead th {\n",
       "        text-align: right;\n",
       "    }\n",
       "</style>\n",
       "<table border=\"1\" class=\"dataframe\">\n",
       "  <thead>\n",
       "    <tr style=\"text-align: right;\">\n",
       "      <th></th>\n",
       "      <th>program_type</th>\n",
       "      <th>assessment</th>\n",
       "      <th>population_trend</th>\n",
       "    </tr>\n",
       "    <tr>\n",
       "      <th>scientific_name</th>\n",
       "      <th></th>\n",
       "      <th></th>\n",
       "      <th></th>\n",
       "    </tr>\n",
       "  </thead>\n",
       "  <tbody>\n",
       "    <tr>\n",
       "      <th>Orycteropus afer</th>\n",
       "      <td>SSP</td>\n",
       "      <td>LC</td>\n",
       "      <td>Unknown</td>\n",
       "    </tr>\n",
       "    <tr>\n",
       "      <th>Addax nasomaculatus</th>\n",
       "      <td>SSP</td>\n",
       "      <td>CR</td>\n",
       "      <td>Decreasing</td>\n",
       "    </tr>\n",
       "    <tr>\n",
       "      <th>Dasyprocta leporina</th>\n",
       "      <td>SSP</td>\n",
       "      <td>LC</td>\n",
       "      <td>Stable</td>\n",
       "    </tr>\n",
       "    <tr>\n",
       "      <th>Alligator sinensis</th>\n",
       "      <td>SSP</td>\n",
       "      <td>CR</td>\n",
       "      <td>Stable</td>\n",
       "    </tr>\n",
       "    <tr>\n",
       "      <th>Myrmecophaga tridactyla</th>\n",
       "      <td>SSP</td>\n",
       "      <td>VU</td>\n",
       "      <td>Decreasing</td>\n",
       "    </tr>\n",
       "  </tbody>\n",
       "</table>\n",
       "</div>"
      ],
      "text/plain": [
       "                        program_type assessment population_trend\n",
       "scientific_name                                                 \n",
       "Orycteropus afer                 SSP         LC          Unknown\n",
       "Addax nasomaculatus              SSP         CR       Decreasing\n",
       "Dasyprocta leporina              SSP         LC           Stable\n",
       "Alligator sinensis               SSP         CR           Stable\n",
       "Myrmecophaga tridactyla          SSP         VU       Decreasing"
      ]
     },
     "execution_count": 143,
     "metadata": {},
     "output_type": "execute_result"
    }
   ],
   "source": [
    "ssp_vs_redlist.drop(\n",
    "    ['taxon_SSP',\n",
    "     'common_name_SSP',\n",
    "     'genus_name_SSP',\n",
    "     'species_name_SSP', \n",
    "     'subspecies', \n",
    "     'taxon_RL',\n",
    "     'common_name_RL',\n",
    "     'genus_name_RL',\n",
    "     'species_name_RL',\n",
    "     'assessment_scope'],\n",
    "    axis=1, inplace=True)\n",
    "\n",
    "ssp_vs_redlist.head()"
   ]
  },
  {
   "cell_type": "code",
   "execution_count": 144,
   "metadata": {},
   "outputs": [
    {
     "name": "stdout",
     "output_type": "stream",
     "text": [
      "program_type        False\n",
      "assessment          False\n",
      "population_trend    False\n",
      "dtype: bool\n"
     ]
    }
   ],
   "source": [
    "print(ssp_vs_redlist.isnull().any())"
   ]
  },
  {
   "cell_type": "code",
   "execution_count": null,
   "metadata": {},
   "outputs": [],
   "source": []
  }
 ],
 "metadata": {
  "kernelspec": {
   "display_name": "Python 3",
   "language": "python",
   "name": "python3"
  },
  "language_info": {
   "codemirror_mode": {
    "name": "ipython",
    "version": 3
   },
   "file_extension": ".py",
   "mimetype": "text/x-python",
   "name": "python",
   "nbconvert_exporter": "python",
   "pygments_lexer": "ipython3",
   "version": "3.13.0"
  }
 },
 "nbformat": 4,
 "nbformat_minor": 2
}
