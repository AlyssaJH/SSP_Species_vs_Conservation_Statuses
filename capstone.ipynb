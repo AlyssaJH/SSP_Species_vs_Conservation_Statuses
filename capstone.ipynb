{
 "cells": [
  {
   "cell_type": "markdown",
   "metadata": {},
   "source": [
    "# Introduction\n",
    "The Association of Zoos and Aquariums (AZA) is a non-profit, independent accrediting organization representing more than 250 facilities in the United States and internationally. These facilities may participate in the AZA’s cooperatively managed Species Survival Plan (SSP) programs, which aim to manage a species’ ex situ (meaning “outside of its natural habitat” - e.g. in zoos) population. \n",
    "\n",
    "The International Union for Conservation of Nature (IUCN), composed of both governmental and non-governmental organizations, is the global authority on the status of the natural world. The IUCN’s Red List of Threatened Species is the world’s most comprehensive source of information on the global extinction risk status of animal, fungus, and plant species. Evaluated species are classified into one of eight categories: \n",
    "- Extinct (EX)\n",
    "- Extinct in the Wild (EW)\n",
    "- Critically Endangered (CR)\n",
    "- Endangered (EN)\n",
    "- Vulnerable (VU)\n",
    "- Near Threatened (NT)\n",
    "- Least Concern (LC)\n",
    "- Data Deficient (DD)\n",
    "\n",
    "This project aims to analyze animal species with dedicated AZA SSPs and their IUCN Red List global extinction risk statuses to determine if SSPs prioritize the world’s most vulnerable species. "
   ]
  },
  {
   "cell_type": "markdown",
   "metadata": {},
   "source": [
    "# Load Data"
   ]
  },
  {
   "cell_type": "markdown",
   "metadata": {},
   "source": [
    "\n",
    "SSP dataset created with data retrieved from the Association of Zoos and Aquariums' Animal Program Database. \n",
    "\n",
    "AZA. 2024. Animal Program Database. https://www.aza.org."
   ]
  },
  {
   "cell_type": "code",
   "execution_count": 476,
   "metadata": {},
   "outputs": [
    {
     "data": {
      "text/plain": [
       "<bound method NDFrame.head of     program_type    taxon                 common_name    genus_name  \\\n",
       "0            SSP   Mammal                    Aardvark   Orycteropus   \n",
       "1            SSP   Mammal                       Addax         Addax   \n",
       "2            SSP   Mammal           Agouti, Brazilian    Dasyprocta   \n",
       "3            SSP  Reptile          Alligator, Chinese     Alligator   \n",
       "4            SSP   Mammal             Anteater, Giant  Myrmecophaga   \n",
       "..           ...      ...                         ...           ...   \n",
       "280          SSP   Mammal                 Wolf, Maned    Chrysocyon   \n",
       "281          SSP     Bird           Woodhoopoe, Green   Phoeniculus   \n",
       "282          SSP   Mammal              Zebra, Grevy's         Equus   \n",
       "283          SSP   Mammal  Zebra, Hartmann's Mountain        Equus    \n",
       "284          SSP   Mammal               Zebra, Plains         Equus   \n",
       "\n",
       "      species_name          scientific_name  subspecies  \n",
       "0             afer         Orycteropus afer         NaN  \n",
       "1    nasomaculatus      Addax nasomaculatus         NaN  \n",
       "2         leporina      Dasyprocta leporina         NaN  \n",
       "3         sinensis       Alligator sinensis         NaN  \n",
       "4       tridactyla  Myrmecophaga tridactyla         NaN  \n",
       "..             ...                      ...         ...  \n",
       "280     brachyurus    Chrysocyon brachyurus         NaN  \n",
       "281      purpureus    Phoeniculus purpureus         NaN  \n",
       "282         grevyi             Equus grevyi         NaN  \n",
       "283          zebra              Equus zebra  hartmannae  \n",
       "284         quagga             Equus quagga         NaN  \n",
       "\n",
       "[285 rows x 7 columns]>"
      ]
     },
     "execution_count": 476,
     "metadata": {},
     "output_type": "execute_result"
    }
   ],
   "source": [
    "# Python library for data manipulation and analysis\n",
    "import pandas as pd\n",
    "\n",
    "# Read in SSP data and display first five rows\n",
    "ssp = pd.read_csv('0225_aza_ssp.csv')\n",
    "ssp.head"
   ]
  },
  {
   "cell_type": "markdown",
   "metadata": {},
   "source": [
    "Red List dataset created with data retrieved from the International Union for Conservation of Nature's Red List of Threatened Species. \n",
    "\n",
    "IUCN. 2024. The IUCN Red List of Threatened Species. Version 2024-2. https://www.iucnredlist.org."
   ]
  },
  {
   "cell_type": "code",
   "execution_count": 477,
   "metadata": {},
   "outputs": [
    {
     "data": {
      "text/plain": [
       "<bound method NDFrame.head of        taxon                 common_name    genus_name   species_name  \\\n",
       "0     Mammal                    Aardvark   Orycteropus           afer   \n",
       "1     Mammal                       Addax         Addax  nasomaculatus   \n",
       "2     Mammal           Agouti, Brazilian    Dasyprocta       leporina   \n",
       "3    Reptile          Alligator, Chinese     Alligator       sinensis   \n",
       "4     Mammal             Anteater, Giant  Myrmecophaga     tridactyla   \n",
       "..       ...                         ...           ...            ...   \n",
       "280   Mammal                 Wolf, Maned    Chrysocyon     brachyurus   \n",
       "281     Bird           Woodhoopoe, Green   Phoeniculus      purpureus   \n",
       "282   Mammal              Zebra, Grevy's         Equus         grevyi   \n",
       "283   Mammal  Zebra, Hartmann's Mountain         Equus          zebra   \n",
       "284   Mammal               Zebra, Plains         Equus         quagga   \n",
       "\n",
       "             scientific_name assessment population_trend assessment_scope  \n",
       "0           Orycteropus afer         LC          Unknown           Global  \n",
       "1        Addax nasomaculatus         CR       Decreasing           Global  \n",
       "2        Dasyprocta leporina         LC           Stable           Global  \n",
       "3         Alligator sinensis         CR           Stable           Global  \n",
       "4    Myrmecophaga tridactyla         VU       Decreasing           Global  \n",
       "..                       ...        ...              ...              ...  \n",
       "280    Chrysocyon brachyurus         NT          Unknown           Global  \n",
       "281    Phoeniculus purpureus         LC       Decreasing           Global  \n",
       "282             Equus grevyi         EN           Stable           Global  \n",
       "283              Equus zebra         VU       Increasing           Global  \n",
       "284             Equus quagga         NT       Decreasing           Global  \n",
       "\n",
       "[285 rows x 8 columns]>"
      ]
     },
     "execution_count": 477,
     "metadata": {},
     "output_type": "execute_result"
    }
   ],
   "source": [
    "# Read in Red List data and display first five rows\n",
    "redlist = pd.read_csv('0225_iucn_assessments.csv')\n",
    "redlist.head"
   ]
  },
  {
   "cell_type": "markdown",
   "metadata": {},
   "source": [
    "# Clean and Merge Data"
   ]
  },
  {
   "cell_type": "code",
   "execution_count": 478,
   "metadata": {},
   "outputs": [
    {
     "name": "stdout",
     "output_type": "stream",
     "text": [
      "taxon               object\n",
      "common_name         object\n",
      "genus_name          object\n",
      "species_name        object\n",
      "scientific_name     object\n",
      "assessment          object\n",
      "population_trend    object\n",
      "assessment_scope    object\n",
      "dtype: object program_type       object\n",
      "taxon              object\n",
      "common_name        object\n",
      "genus_name         object\n",
      "species_name       object\n",
      "scientific_name    object\n",
      "subspecies         object\n",
      "dtype: object\n"
     ]
    }
   ],
   "source": [
    "# Check for dtype errors\n",
    "print(redlist.dtypes, ssp.dtypes)"
   ]
  },
  {
   "cell_type": "code",
   "execution_count": 479,
   "metadata": {},
   "outputs": [
    {
     "data": {
      "text/plain": [
       "<bound method NDFrame.head of        taxon                 common_name          scientific_name\n",
       "0     Mammal                    Aardvark         Orycteropus afer\n",
       "1     Mammal                       Addax      Addax nasomaculatus\n",
       "2     Mammal           Agouti, Brazilian      Dasyprocta leporina\n",
       "3    Reptile          Alligator, Chinese       Alligator sinensis\n",
       "4     Mammal             Anteater, Giant  Myrmecophaga tridactyla\n",
       "..       ...                         ...                      ...\n",
       "280   Mammal                 Wolf, Maned    Chrysocyon brachyurus\n",
       "281     Bird           Woodhoopoe, Green    Phoeniculus purpureus\n",
       "282   Mammal              Zebra, Grevy's             Equus grevyi\n",
       "283   Mammal  Zebra, Hartmann's Mountain              Equus zebra\n",
       "284   Mammal               Zebra, Plains             Equus quagga\n",
       "\n",
       "[285 rows x 3 columns]>"
      ]
     },
     "execution_count": 479,
     "metadata": {},
     "output_type": "execute_result"
    }
   ],
   "source": [
    "# Drop unneeded SSP columns and display first 5 rows\n",
    "ssp.drop(\n",
    "    ['program_type',\n",
    "     'genus_name',\n",
    "     'species_name',\n",
    "     'subspecies'],\n",
    "    axis=1, inplace=True)\n",
    "\n",
    "ssp.head"
   ]
  },
  {
   "cell_type": "code",
   "execution_count": 480,
   "metadata": {},
   "outputs": [
    {
     "data": {
      "text/plain": [
       "<bound method NDFrame.head of              scientific_name assessment population_trend\n",
       "0           Orycteropus afer         LC          Unknown\n",
       "1        Addax nasomaculatus         CR       Decreasing\n",
       "2        Dasyprocta leporina         LC           Stable\n",
       "3         Alligator sinensis         CR           Stable\n",
       "4    Myrmecophaga tridactyla         VU       Decreasing\n",
       "..                       ...        ...              ...\n",
       "280    Chrysocyon brachyurus         NT          Unknown\n",
       "281    Phoeniculus purpureus         LC       Decreasing\n",
       "282             Equus grevyi         EN           Stable\n",
       "283              Equus zebra         VU       Increasing\n",
       "284             Equus quagga         NT       Decreasing\n",
       "\n",
       "[285 rows x 3 columns]>"
      ]
     },
     "execution_count": 480,
     "metadata": {},
     "output_type": "execute_result"
    }
   ],
   "source": [
    "# Drop unneeded RedList columns and display first 5 rows\n",
    "redlist.drop(\n",
    "    ['taxon',\n",
    "     'common_name',\n",
    "     'genus_name',\n",
    "     'species_name',\n",
    "     'assessment_scope'],\n",
    "    axis=1, inplace=True)\n",
    "\n",
    "redlist.head"
   ]
  },
  {
   "cell_type": "code",
   "execution_count": 481,
   "metadata": {},
   "outputs": [
    {
     "name": "stdout",
     "output_type": "stream",
     "text": [
      "taxon              False\n",
      "common_name        False\n",
      "scientific_name    False\n",
      "dtype: bool\n",
      "scientific_name     False\n",
      "assessment          False\n",
      "population_trend    False\n",
      "dtype: bool\n"
     ]
    }
   ],
   "source": [
    "# Check for null values\n",
    "print(ssp.isnull().any())\n",
    "print(redlist.isnull().any())"
   ]
  },
  {
   "cell_type": "code",
   "execution_count": 482,
   "metadata": {},
   "outputs": [
    {
     "data": {
      "text/html": [
       "<div>\n",
       "<style scoped>\n",
       "    .dataframe tbody tr th:only-of-type {\n",
       "        vertical-align: middle;\n",
       "    }\n",
       "\n",
       "    .dataframe tbody tr th {\n",
       "        vertical-align: top;\n",
       "    }\n",
       "\n",
       "    .dataframe thead th {\n",
       "        text-align: right;\n",
       "    }\n",
       "</style>\n",
       "<table border=\"1\" class=\"dataframe\">\n",
       "  <thead>\n",
       "    <tr style=\"text-align: right;\">\n",
       "      <th></th>\n",
       "      <th>taxon</th>\n",
       "      <th>common_name</th>\n",
       "      <th>assessment</th>\n",
       "      <th>population_trend</th>\n",
       "    </tr>\n",
       "    <tr>\n",
       "      <th>scientific_name</th>\n",
       "      <th></th>\n",
       "      <th></th>\n",
       "      <th></th>\n",
       "      <th></th>\n",
       "    </tr>\n",
       "  </thead>\n",
       "  <tbody>\n",
       "    <tr>\n",
       "      <th>Orycteropus afer</th>\n",
       "      <td>Mammal</td>\n",
       "      <td>Aardvark</td>\n",
       "      <td>LC</td>\n",
       "      <td>Unknown</td>\n",
       "    </tr>\n",
       "    <tr>\n",
       "      <th>Addax nasomaculatus</th>\n",
       "      <td>Mammal</td>\n",
       "      <td>Addax</td>\n",
       "      <td>CR</td>\n",
       "      <td>Decreasing</td>\n",
       "    </tr>\n",
       "    <tr>\n",
       "      <th>Dasyprocta leporina</th>\n",
       "      <td>Mammal</td>\n",
       "      <td>Agouti, Brazilian</td>\n",
       "      <td>LC</td>\n",
       "      <td>Stable</td>\n",
       "    </tr>\n",
       "    <tr>\n",
       "      <th>Alligator sinensis</th>\n",
       "      <td>Reptile</td>\n",
       "      <td>Alligator, Chinese</td>\n",
       "      <td>CR</td>\n",
       "      <td>Stable</td>\n",
       "    </tr>\n",
       "    <tr>\n",
       "      <th>Myrmecophaga tridactyla</th>\n",
       "      <td>Mammal</td>\n",
       "      <td>Anteater, Giant</td>\n",
       "      <td>VU</td>\n",
       "      <td>Decreasing</td>\n",
       "    </tr>\n",
       "  </tbody>\n",
       "</table>\n",
       "</div>"
      ],
      "text/plain": [
       "                           taxon         common_name assessment  \\\n",
       "scientific_name                                                   \n",
       "Orycteropus afer          Mammal            Aardvark         LC   \n",
       "Addax nasomaculatus       Mammal               Addax         CR   \n",
       "Dasyprocta leporina       Mammal   Agouti, Brazilian         LC   \n",
       "Alligator sinensis       Reptile  Alligator, Chinese         CR   \n",
       "Myrmecophaga tridactyla   Mammal     Anteater, Giant         VU   \n",
       "\n",
       "                        population_trend  \n",
       "scientific_name                           \n",
       "Orycteropus afer                 Unknown  \n",
       "Addax nasomaculatus           Decreasing  \n",
       "Dasyprocta leporina               Stable  \n",
       "Alligator sinensis                Stable  \n",
       "Myrmecophaga tridactyla       Decreasing  "
      ]
     },
     "execution_count": 482,
     "metadata": {},
     "output_type": "execute_result"
    }
   ],
   "source": [
    "# Combine data sets at column 'scientific_name' and display first 5 rows\n",
    "redlist = redlist.set_index('scientific_name')\n",
    "ssp = ssp.set_index('scientific_name')\n",
    "ssp_vs_redlist = ssp.join(redlist, lsuffix='_SSP', rsuffix='_RL')\n",
    "ssp_vs_redlist.head()"
   ]
  },
  {
   "cell_type": "code",
   "execution_count": 483,
   "metadata": {},
   "outputs": [
    {
     "data": {
      "text/html": [
       "<div>\n",
       "<style scoped>\n",
       "    .dataframe tbody tr th:only-of-type {\n",
       "        vertical-align: middle;\n",
       "    }\n",
       "\n",
       "    .dataframe tbody tr th {\n",
       "        vertical-align: top;\n",
       "    }\n",
       "\n",
       "    .dataframe thead th {\n",
       "        text-align: right;\n",
       "    }\n",
       "</style>\n",
       "<table border=\"1\" class=\"dataframe\">\n",
       "  <thead>\n",
       "    <tr style=\"text-align: right;\">\n",
       "      <th></th>\n",
       "      <th>taxon</th>\n",
       "      <th>common_name</th>\n",
       "      <th>assessment</th>\n",
       "      <th>population_trend</th>\n",
       "    </tr>\n",
       "    <tr>\n",
       "      <th>scientific_name</th>\n",
       "      <th></th>\n",
       "      <th></th>\n",
       "      <th></th>\n",
       "      <th></th>\n",
       "    </tr>\n",
       "  </thead>\n",
       "  <tbody>\n",
       "    <tr>\n",
       "      <th>Orycteropus afer</th>\n",
       "      <td>MAMMAL</td>\n",
       "      <td>AARDVARK</td>\n",
       "      <td>LC</td>\n",
       "      <td>UNKNOWN</td>\n",
       "    </tr>\n",
       "    <tr>\n",
       "      <th>Addax nasomaculatus</th>\n",
       "      <td>MAMMAL</td>\n",
       "      <td>ADDAX</td>\n",
       "      <td>CR</td>\n",
       "      <td>DECREASING</td>\n",
       "    </tr>\n",
       "    <tr>\n",
       "      <th>Dasyprocta leporina</th>\n",
       "      <td>MAMMAL</td>\n",
       "      <td>AGOUTI, BRAZILIAN</td>\n",
       "      <td>LC</td>\n",
       "      <td>STABLE</td>\n",
       "    </tr>\n",
       "    <tr>\n",
       "      <th>Alligator sinensis</th>\n",
       "      <td>REPTILE</td>\n",
       "      <td>ALLIGATOR, CHINESE</td>\n",
       "      <td>CR</td>\n",
       "      <td>STABLE</td>\n",
       "    </tr>\n",
       "    <tr>\n",
       "      <th>Myrmecophaga tridactyla</th>\n",
       "      <td>MAMMAL</td>\n",
       "      <td>ANTEATER, GIANT</td>\n",
       "      <td>VU</td>\n",
       "      <td>DECREASING</td>\n",
       "    </tr>\n",
       "  </tbody>\n",
       "</table>\n",
       "</div>"
      ],
      "text/plain": [
       "                           taxon         common_name assessment  \\\n",
       "scientific_name                                                   \n",
       "Orycteropus afer          MAMMAL            AARDVARK         LC   \n",
       "Addax nasomaculatus       MAMMAL               ADDAX         CR   \n",
       "Dasyprocta leporina       MAMMAL   AGOUTI, BRAZILIAN         LC   \n",
       "Alligator sinensis       REPTILE  ALLIGATOR, CHINESE         CR   \n",
       "Myrmecophaga tridactyla   MAMMAL     ANTEATER, GIANT         VU   \n",
       "\n",
       "                        population_trend  \n",
       "scientific_name                           \n",
       "Orycteropus afer                 UNKNOWN  \n",
       "Addax nasomaculatus           DECREASING  \n",
       "Dasyprocta leporina               STABLE  \n",
       "Alligator sinensis                STABLE  \n",
       "Myrmecophaga tridactyla       DECREASING  "
      ]
     },
     "execution_count": 483,
     "metadata": {},
     "output_type": "execute_result"
    }
   ],
   "source": [
    "# Strip whitespace and normalize case in all columns \n",
    "ssp_vs_redlist['taxon'] = ssp_vs_redlist['taxon'].str.strip().str.upper()\n",
    "ssp_vs_redlist['common_name'] = ssp_vs_redlist['common_name'].str.strip().str.upper()\n",
    "ssp_vs_redlist['assessment'] = ssp_vs_redlist['assessment'].str.strip().str.upper()\n",
    "ssp_vs_redlist['population_trend'] = ssp_vs_redlist['population_trend'].str.strip().str.upper()\n",
    "# Display first 5 rows\n",
    "ssp_vs_redlist.head()\n"
   ]
  },
  {
   "cell_type": "code",
   "execution_count": 484,
   "metadata": {},
   "outputs": [
    {
     "name": "stdout",
     "output_type": "stream",
     "text": [
      "         taxon      common_name assessment population_trend\n",
      "count      301              301        301              301\n",
      "unique       5              285          6                5\n",
      "top     MAMMAL  TIGER, SUMATRAN         LC       DECREASING\n",
      "freq       129                3        133              199\n",
      "<class 'pandas.core.frame.DataFrame'>\n",
      "Index: 301 entries, Orycteropus afer to Equus quagga\n",
      "Data columns (total 4 columns):\n",
      " #   Column            Non-Null Count  Dtype \n",
      "---  ------            --------------  ----- \n",
      " 0   taxon             301 non-null    object\n",
      " 1   common_name       301 non-null    object\n",
      " 2   assessment        301 non-null    object\n",
      " 3   population_trend  301 non-null    object\n",
      "dtypes: object(4)\n",
      "memory usage: 11.8+ KB\n",
      "None\n"
     ]
    }
   ],
   "source": [
    "print(ssp_vs_redlist.describe())\n",
    "print (ssp_vs_redlist.info())"
   ]
  },
  {
   "cell_type": "markdown",
   "metadata": {},
   "source": [
    "# Analysis"
   ]
  },
  {
   "cell_type": "code",
   "execution_count": 485,
   "metadata": {},
   "outputs": [
    {
     "name": "stdout",
     "output_type": "stream",
     "text": [
      "assessment\n",
      "DD      1\n",
      "NT     24\n",
      "VU     44\n",
      "CR     46\n",
      "EN     53\n",
      "LC    133\n",
      "Name: assessment, dtype: int64\n",
      "count      6.000000\n",
      "mean      50.166667\n",
      "std       44.781321\n",
      "min        1.000000\n",
      "25%       29.000000\n",
      "50%       45.000000\n",
      "75%       51.250000\n",
      "max      133.000000\n",
      "Name: assessment, dtype: float64\n"
     ]
    }
   ],
   "source": [
    "# Group ssp_vs_redlist by assessment\n",
    "assessment_count = ssp_vs_redlist.groupby('assessment').assessment.count()\n",
    "assessment_count = assessment_count.sort_values()\n",
    "print(assessment_count)\n",
    "# Descriptive Statistics\n",
    "print(assessment_count.describe())"
   ]
  },
  {
   "cell_type": "code",
   "execution_count": 486,
   "metadata": {},
   "outputs": [
    {
     "name": "stdout",
     "output_type": "stream",
     "text": [
      "population_trend\n",
      "UNSPECIFIED      2\n",
      "UNKNOWN         19\n",
      "INCREASING      26\n",
      "STABLE          55\n",
      "DECREASING     199\n",
      "Name: population_trend, dtype: int64\n",
      "count      5.000000\n",
      "mean      60.200000\n",
      "std       79.916832\n",
      "min        2.000000\n",
      "25%       19.000000\n",
      "50%       26.000000\n",
      "75%       55.000000\n",
      "max      199.000000\n",
      "Name: population_trend, dtype: float64\n"
     ]
    }
   ],
   "source": [
    "# Group ssp_vs_redlist by population_trend\n",
    "population_trend_count = ssp_vs_redlist.groupby('population_trend').population_trend.count()\n",
    "population_trend_count = population_trend_count.sort_values()\n",
    "print(population_trend_count)\n",
    "# Descriptive statistics\n",
    "print(population_trend_count.describe())"
   ]
  },
  {
   "cell_type": "code",
   "execution_count": 487,
   "metadata": {},
   "outputs": [
    {
     "name": "stdout",
     "output_type": "stream",
     "text": [
      "assessment  population_trend\n",
      "CR          DECREASING          38\n",
      "            INCREASING           3\n",
      "            STABLE               2\n",
      "            UNKNOWN              1\n",
      "            UNSPECIFIED          2\n",
      "DD          DECREASING           1\n",
      "EN          DECREASING          45\n",
      "            INCREASING           4\n",
      "            STABLE               3\n",
      "            UNKNOWN              1\n",
      "LC          DECREASING          53\n",
      "            INCREASING          17\n",
      "            STABLE              49\n",
      "            UNKNOWN             14\n",
      "NT          DECREASING          23\n",
      "            UNKNOWN              1\n",
      "VU          DECREASING          39\n",
      "            INCREASING           2\n",
      "            STABLE               1\n",
      "            UNKNOWN              2\n",
      "Name: assessment, dtype: int64\n"
     ]
    },
    {
     "data": {
      "text/plain": [
       "count    20.000000\n",
       "mean     15.050000\n",
       "std      18.832992\n",
       "min       1.000000\n",
       "25%       1.750000\n",
       "50%       3.000000\n",
       "75%      26.750000\n",
       "max      53.000000\n",
       "Name: assessment, dtype: float64"
      ]
     },
     "execution_count": 487,
     "metadata": {},
     "output_type": "execute_result"
    }
   ],
   "source": [
    "# Group ssp_vs_redlist by assessment and population_trend\n",
    "assessment_and_trend = ssp_vs_redlist.groupby(['assessment', 'population_trend']).assessment.count()\n",
    "print(assessment_and_trend)\n",
    "# Desccriptive statistics\n",
    "assessment_and_trend.describe()"
   ]
  },
  {
   "cell_type": "markdown",
   "metadata": {},
   "source": [
    "# Visualization"
   ]
  },
  {
   "cell_type": "code",
   "execution_count": 488,
   "metadata": {},
   "outputs": [
    {
     "data": {
      "image/png": "[encoded data removed]",
      "text/plain": [
       "<Figure size 640x480 with 1 Axes>"
      ]
     },
     "metadata": {},
     "output_type": "display_data"
    }
   ],
   "source": [
    "# Python library for data visualization\n",
    "import matplotlib.pyplot as plt\n",
    "\n",
    "# Define data\n",
    "labels = 'CR', 'EN', 'VU', 'NT', 'LC', 'DD'\n",
    "sizes = [46, 53, 44, 24, 133, 1]\n",
    "# Create pie chart\n",
    "fig, ax = plt.subplots()\n",
    "ax.pie(sizes, labels=labels, autopct='%1.1f%%')\n",
    "ax.set_title('Species Distribution by Extinction Risk Status')\n",
    "# Display pie chart\n",
    "plt.show()"
   ]
  },
  {
   "cell_type": "code",
   "execution_count": 489,
   "metadata": {},
   "outputs": [
    {
     "data": {
      "image/png": "[encoded data removed]",
      "text/plain": [
       "<Figure size 640x480 with 1 Axes>"
      ]
     },
     "metadata": {},
     "output_type": "display_data"
    }
   ],
   "source": [
    "# Define data\n",
    "labels = 'Increasing', 'Decreasing', 'Stable', 'Unknown', 'Unspecified'\n",
    "sizes = [26, 199, 55, 19, 2]\n",
    "# Create pie chart\n",
    "fig, ax = plt.subplots()\n",
    "ax.pie(sizes, labels=labels, autopct='%1.1f%%')\n",
    "ax.set_title('Species Distribution by Population Trend')\n",
    "# Display pie chart\n",
    "plt.show()"
   ]
  },
  {
   "cell_type": "markdown",
   "metadata": {},
   "source": [
    "# Summary and Discussion"
   ]
  },
  {
   "cell_type": "markdown",
   "metadata": {},
   "source": []
  }
 ],
 "metadata": {
  "kernelspec": {
   "display_name": "Python 3",
   "language": "python",
   "name": "python3"
  },
  "language_info": {
   "codemirror_mode": {
    "name": "ipython",
    "version": 3
   },
   "file_extension": ".py",
   "mimetype": "text/x-python",
   "name": "python",
   "nbconvert_exporter": "python",
   "pygments_lexer": "ipython3",
   "version": "3.13.0"
  }
 },
 "nbformat": 4,
 "nbformat_minor": 2
}
