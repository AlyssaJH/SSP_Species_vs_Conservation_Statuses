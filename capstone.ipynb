{
 "cells": [
  {
   "cell_type": "markdown",
   "metadata": {},
   "source": [
    "# Introduction\n",
    "The Association of Zoos and Aquariums (AZA) is a non-profit, independent accrediting organization representing more than 250 facilities in the United States and internationally. These facilities may participate in the AZA’s cooperatively managed Species Survival Plan (SSP) programs, which aim to manage a species’ ex situ (meaning “outside of its natural habitat” - e.g. in zoos) population. \n",
    "\n",
    "The International Union for Conservation of Nature (IUCN), composed of both governmental and non-governmental organizations, is the global authority on the status of the natural world. The IUCN’s Red List of Threatened Species is the world’s most comprehensive source of information on the global extinction risk status of animal, fungus, and plant species. Evaluated species are classified into one of eight categories: \n",
    "- Extinct (EX)\n",
    "- Extinct in the Wild (EW)\n",
    "- Critically Endangered (CR)\n",
    "- Endangered (EN)\n",
    "- Vulnerable (VU)\n",
    "- Near Threatened (NT)\n",
    "- Least Concern (LC)\n",
    "- Data Deficient (DD)\n",
    "\n",
    "This project aims to analyze animal species with dedicated AZA SSPs and their IUCN Red List global extinction risk statuses to determine if SSPs prioritize the world’s most vulnerable species. "
   ]
  },
  {
   "cell_type": "markdown",
   "metadata": {},
   "source": [
    "# Load Data"
   ]
  },
  {
   "cell_type": "markdown",
   "metadata": {},
   "source": [
    "\n",
    "SSP dataset created with data retrieved from the Association of Zoos and Aquariums' Animal Program Database. \n",
    "\n",
    "AZA. 2024. Animal Program Database. https://www.aza.org."
   ]
  },
  {
   "cell_type": "code",
   "execution_count": null,
   "metadata": {},
   "outputs": [],
   "source": [
    "# Python library for data manipulation and analysis\n",
    "import pandas as pd\n",
    "\n",
    "# Read in SSP data and display first five rows\n",
    "ssp = pd.read_csv('0225_aza_ssp.csv')\n",
    "ssp.head"
   ]
  },
  {
   "cell_type": "markdown",
   "metadata": {},
   "source": [
    "Red List dataset created with data retrieved from the International Union for Conservation of Nature's Red List of Threatened Species. \n",
    "\n",
    "IUCN. 2024. The IUCN Red List of Threatened Species. Version 2024-2. https://www.iucnredlist.org."
   ]
  },
  {
   "cell_type": "code",
   "execution_count": null,
   "metadata": {},
   "outputs": [],
   "source": [
    "# Read in Red List data and display first five rows\n",
    "redlist = pd.read_csv('0225_iucn_assessments.csv')\n",
    "redlist.head"
   ]
  },
  {
   "cell_type": "markdown",
   "metadata": {},
   "source": [
    "# Clean and Merge Data"
   ]
  },
  {
   "cell_type": "code",
   "execution_count": null,
   "metadata": {},
   "outputs": [],
   "source": [
    "# Check for dtype errors\n",
    "print(redlist.dtypes, ssp.dtypes)"
   ]
  },
  {
   "cell_type": "code",
   "execution_count": null,
   "metadata": {},
   "outputs": [],
   "source": [
    "# Drop unneeded SSP columns and display first 5 rows\n",
    "ssp.drop(\n",
    "    ['program_type',\n",
    "     'genus_name',\n",
    "     'species_name',\n",
    "     'subspecies'],\n",
    "    axis=1, inplace=True)\n",
    "\n",
    "ssp.head"
   ]
  },
  {
   "cell_type": "code",
   "execution_count": null,
   "metadata": {},
   "outputs": [],
   "source": [
    "# Drop unneeded RedList columns and display first 5 rows\n",
    "redlist.drop(\n",
    "    ['taxon',\n",
    "     'common_name',\n",
    "     'genus_name',\n",
    "     'species_name',\n",
    "     'assessment_scope'],\n",
    "    axis=1, inplace=True)\n",
    "\n",
    "redlist.head"
   ]
  },
  {
   "cell_type": "code",
   "execution_count": null,
   "metadata": {},
   "outputs": [],
   "source": [
    "# Check for null values\n",
    "print(ssp.isnull().any())\n",
    "print(redlist.isnull().any())"
   ]
  },
  {
   "cell_type": "code",
   "execution_count": null,
   "metadata": {},
   "outputs": [],
   "source": [
    "# Combine data sets at column 'scientific_name' and display first 5 rows\n",
    "redlist = redlist.set_index('scientific_name')\n",
    "ssp = ssp.set_index('scientific_name')\n",
    "ssp_vs_redlist = ssp.join(redlist, lsuffix='_SSP', rsuffix='_RL')\n",
    "ssp_vs_redlist.head()"
   ]
  },
  {
   "cell_type": "code",
   "execution_count": null,
   "metadata": {},
   "outputs": [],
   "source": [
    "# Strip whitespace and normalize case in all columns \n",
    "ssp_vs_redlist['taxon'] = ssp_vs_redlist['taxon'].str.strip().str.upper()\n",
    "ssp_vs_redlist['common_name'] = ssp_vs_redlist['common_name'].str.strip().str.upper()\n",
    "ssp_vs_redlist['assessment'] = ssp_vs_redlist['assessment'].str.strip().str.upper()\n",
    "ssp_vs_redlist['population_trend'] = ssp_vs_redlist['population_trend'].str.strip().str.upper()\n",
    "# Display first 5 rows\n",
    "ssp_vs_redlist.head()\n"
   ]
  },
  {
   "cell_type": "code",
   "execution_count": null,
   "metadata": {},
   "outputs": [],
   "source": [
    "print(ssp_vs_redlist.describe())\n",
    "print (ssp_vs_redlist.info())"
   ]
  },
  {
   "cell_type": "markdown",
   "metadata": {},
   "source": [
    "# Analysis"
   ]
  },
  {
   "cell_type": "code",
   "execution_count": null,
   "metadata": {},
   "outputs": [],
   "source": [
    "# Group ssp_vs_redlist by assessment\n",
    "assessment_count = ssp_vs_redlist.groupby('assessment').assessment.count()\n",
    "assessment_count = assessment_count.sort_values()\n",
    "print(assessment_count)\n",
    "# Descriptive Statistics\n",
    "print(assessment_count.describe())"
   ]
  },
  {
   "cell_type": "code",
   "execution_count": null,
   "metadata": {},
   "outputs": [],
   "source": [
    "# Group ssp_vs_redlist by population_trend\n",
    "population_trend_count = ssp_vs_redlist.groupby('population_trend').population_trend.count()\n",
    "population_trend_count = population_trend_count.sort_values()\n",
    "print(population_trend_count)\n",
    "# Descriptive statistics\n",
    "print(population_trend_count.describe())"
   ]
  },
  {
   "cell_type": "code",
   "execution_count": null,
   "metadata": {},
   "outputs": [],
   "source": [
    "# Group ssp_vs_redlist by assessment and population_trend\n",
    "assessment_and_trend = ssp_vs_redlist.groupby(['assessment', 'population_trend']).assessment.count()\n",
    "print(assessment_and_trend)\n",
    "# Desccriptive statistics\n",
    "assessment_and_trend.describe()"
   ]
  },
  {
   "cell_type": "markdown",
   "metadata": {},
   "source": [
    "# Visualization"
   ]
  },
  {
   "cell_type": "code",
   "execution_count": null,
   "metadata": {},
   "outputs": [],
   "source": [
    "# Python library for data visualization\n",
    "import matplotlib.pyplot as plt\n",
    "\n",
    "# Define data\n",
    "labels = 'CR', 'EN', 'VU', 'NT', 'LC', 'DD'\n",
    "sizes = [46, 53, 44, 24, 133, 1]\n",
    "# Create pie chart\n",
    "fig, ax = plt.subplots()\n",
    "ax.pie(sizes, labels=labels, autopct='%1.1f%%')\n",
    "ax.set_title('Species Distribution by Extinction Risk Status')\n",
    "# Display pie chart\n",
    "plt.show()"
   ]
  },
  {
   "cell_type": "code",
   "execution_count": null,
   "metadata": {},
   "outputs": [],
   "source": [
    "# Define data\n",
    "labels = 'Increasing', 'Decreasing', 'Stable', 'Unknown', 'Unspecified'\n",
    "sizes = [26, 199, 55, 19, 2]\n",
    "# Create pie chart\n",
    "fig, ax = plt.subplots()\n",
    "ax.pie(sizes, labels=labels, autopct='%1.1f%%')\n",
    "ax.set_title('Species Distribution by Population Trend')\n",
    "# Display pie chart\n",
    "plt.show()"
   ]
  },
  {
   "cell_type": "markdown",
   "metadata": {},
   "source": [
    "# Summary and Discussion"
   ]
  },
  {
   "cell_type": "markdown",
   "metadata": {},
   "source": []
  }
 ],
 "metadata": {
  "kernelspec": {
   "display_name": "Python 3",
   "language": "python",
   "name": "python3"
  },
  "language_info": {
   "codemirror_mode": {
    "name": "ipython",
    "version": 3
   },
   "file_extension": ".py",
   "mimetype": "text/x-python",
   "name": "python",
   "nbconvert_exporter": "python",
   "pygments_lexer": "ipython3",
   "version": "3.13.0"
  }
 },
 "nbformat": 4,
 "nbformat_minor": 2
}
